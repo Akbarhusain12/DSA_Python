{
 "cells": [
  {
   "cell_type": "code",
   "execution_count": 1,
   "id": "8b37661d-5ef7-45c7-b423-97fe761e7531",
   "metadata": {},
   "outputs": [
    {
     "name": "stdout",
     "output_type": "stream",
     "text": [
      "10 -> 20 -> 30 -> None\n",
      "Dequeued: 10\n",
      "20 -> 30 -> None\n",
      "Front element: 20\n"
     ]
    }
   ],
   "source": [
    "class Node:\n",
    "    def __init__(self, Data, next=None):\n",
    "        self.data = Data\n",
    "        self.next = next\n",
    "\n",
    "class Queue:\n",
    "    def __init__(self):\n",
    "        self.front = None\n",
    "        self.rear = None\n",
    "\n",
    "    def is_empty(self):\n",
    "        return self.front is None\n",
    "\n",
    "    def Enqueue(self, data):\n",
    "        n = Node(data, None)\n",
    "        if self.rear is None:\n",
    "            self.front = self.rear = n\n",
    "        else:\n",
    "            self.rear.next = n\n",
    "            self.rear = n\n",
    "\n",
    "    def Dequeue(self):\n",
    "        if self.is_empty():\n",
    "            print(\"Queue is empty\")\n",
    "            return None\n",
    "        removed_data = self.front.data\n",
    "        self.front = self.front.next\n",
    "        if self.front is None:\n",
    "            self.rear = None\n",
    "        return removed_data\n",
    "\n",
    "    def Peek(self):\n",
    "        if self.is_empty():\n",
    "            print(\"Queue is empty\")\n",
    "            return None\n",
    "        return self.front.data\n",
    "\n",
    "    def Display(self):\n",
    "        if self.is_empty():\n",
    "            print(\"Queue is empty\")\n",
    "            return\n",
    "        temp = self.front\n",
    "        while temp:\n",
    "            print(temp.data, end=\" -> \")\n",
    "            temp = temp.next\n",
    "        print(\"None\")\n",
    "\n",
    "q = Queue()\n",
    "q.Enqueue(10)\n",
    "q.Enqueue(20)\n",
    "q.Enqueue(30)\n",
    "q.Display()\n",
    "\n",
    "print(\"Dequeued:\", q.Dequeue())\n",
    "q.Display()\n",
    "\n",
    "print(\"Front element:\", q.Peek())"
   ]
  },
  {
   "cell_type": "code",
   "execution_count": null,
   "id": "27cb6238-d494-4184-a453-f8253d39d929",
   "metadata": {},
   "outputs": [],
   "source": []
  }
 ],
 "metadata": {
  "kernelspec": {
   "display_name": "Python 3 (ipykernel)",
   "language": "python",
   "name": "python3"
  },
  "language_info": {
   "codemirror_mode": {
    "name": "ipython",
    "version": 3
   },
   "file_extension": ".py",
   "mimetype": "text/x-python",
   "name": "python",
   "nbconvert_exporter": "python",
   "pygments_lexer": "ipython3",
   "version": "3.13.2"
  }
 },
 "nbformat": 4,
 "nbformat_minor": 5
}
