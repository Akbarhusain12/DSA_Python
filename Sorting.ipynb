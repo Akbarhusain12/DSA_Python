{
 "cells": [
  {
   "cell_type": "code",
   "execution_count": 12,
   "id": "e71de76d-8d6e-44e1-881d-0d8f8f15b631",
   "metadata": {},
   "outputs": [
    {
     "name": "stdout",
     "output_type": "stream",
     "text": [
      "[2, 2, 4, 6, 12, 12, 54, 61, 62, 78, 564, 1000]\n"
     ]
    }
   ],
   "source": [
    "# Bubble Sort\n",
    "\n",
    "def bubble_sort(arr):\n",
    "  size = len(arr)\n",
    "  for i in range(size):\n",
    "      for j in range(i,size - 1):\n",
    "          if arr[i] > arr[j+1]:\n",
    "              arr[i], arr[j+1] = arr[j+1], arr[i]\n",
    "  print(arr)\n",
    "\n",
    "arr = [12,4,54,2,564,62,6,2,61,12,78,1000]\n",
    "bubble_sort(arr)\n"
   ]
  },
  {
   "cell_type": "code",
   "execution_count": 19,
   "id": "cd4e2af9-7804-4ef0-81db-f8f8b175e08c",
   "metadata": {},
   "outputs": [
    {
     "data": {
      "text/plain": [
       "[2, 2, 4, 6, 12, 12, 54, 61, 62, 78, 564]"
      ]
     },
     "execution_count": 19,
     "metadata": {},
     "output_type": "execute_result"
    }
   ],
   "source": [
    "def insertion_sort(arr):\n",
    "  size = len(arr)\n",
    "  for i in range(size):\n",
    "      key = arr[i]\n",
    "      j = i - 1\n",
    "      while j >= 0 and key < arr[j]:\n",
    "          arr[j+1] = arr[j]\n",
    "          j -= 1\n",
    "      arr[j+1] = key\n",
    "  return arr\n",
    "\n",
    "arr = [12,4,54,2,564,62,6,2,61,12,78]\n",
    "insertion_sort(arr)"
   ]
  },
  {
   "cell_type": "code",
   "execution_count": 23,
   "id": "08b1cb0f-30fe-4fb9-8737-1347e2901488",
   "metadata": {},
   "outputs": [
    {
     "name": "stdout",
     "output_type": "stream",
     "text": [
      "[2, 2, 4, 6, 12, 12, 54, 61, 62, 78, 564]\n"
     ]
    }
   ],
   "source": [
    "def selection_sort(arr):\n",
    "  size = len(arr) \n",
    "  for i in range(size):\n",
    "      min1 = i\n",
    "      for j in range(min1 + 1, size):\n",
    "          if arr[j] < arr[min1]:\n",
    "              min1 = j\n",
    "      arr[i], arr[min1] = arr[min1], arr[i]\n",
    "  print(arr)\n",
    "\n",
    "\n",
    "arr = [12,4,54,2,564,62,6,2,61,12,78]\n",
    "selection_sort(arr)"
   ]
  },
  {
   "cell_type": "code",
   "execution_count": 25,
   "id": "a891b5e1-05b9-4e1a-82de-55373648ce0d",
   "metadata": {},
   "outputs": [
    {
     "name": "stdout",
     "output_type": "stream",
     "text": [
      "[2, 2, 4, 6, 12, 12, 54, 61, 62, 78, 564]\n"
     ]
    }
   ],
   "source": [
    "def quick_sort(arr):\n",
    "    if len(arr)<1:\n",
    "        return arr\n",
    "    pivot = arr[0]\n",
    "    lesser = [x for x in arr[1:] if x <= pivot]\n",
    "    greater = [x for x in arr[1:] if x > pivot]\n",
    "\n",
    "    return quick_sort(lesser) + [pivot] + quick_sort(greater)\n",
    "\n",
    "arr = [12, 4, 54, 2, 564, 62, 6, 2, 61, 12, 78]\n",
    "print(quick_sort(arr))\n"
   ]
  },
  {
   "cell_type": "code",
   "execution_count": 5,
   "id": "7190b460-59ea-43c1-828b-211b372fbbaa",
   "metadata": {},
   "outputs": [
    {
     "name": "stdout",
     "output_type": "stream",
     "text": [
      "[2, 2, 4, 6, 12, 12, 54, 61, 62, 78, 564]\n"
     ]
    }
   ],
   "source": [
    "def merge_sort(arr):\n",
    "    if len(arr) > 1:\n",
    "        mid = len(arr) // 2\n",
    "        leftlist = arr[:mid]\n",
    "        rightlist = arr[mid:]\n",
    "\n",
    "\n",
    "        merge_sort(leftlist)\n",
    "        merge_sort(rightlist)\n",
    "\n",
    "        i=j=k=0\n",
    "\n",
    "        while i < len(leftlist) and j < len(rightlist):\n",
    "            if leftlist[i] < rightlist[j]:\n",
    "                arr[k] = leftlist[i]\n",
    "                i += 1\n",
    "            else:\n",
    "                arr[k] = rightlist[j]\n",
    "                j += 1\n",
    "            k += 1\n",
    "\n",
    "        while i < len(leftlist):\n",
    "            arr[k] = leftlist[i]\n",
    "            i += 1\n",
    "            k += 1\n",
    "\n",
    "        while j < len(rightlist):\n",
    "            arr[k] = rightlist[j]\n",
    "            j += 1\n",
    "            k += 1\n",
    "    return arr\n",
    "\n",
    "\n",
    "\n",
    "arr = [12, 4, 54, 2, 564, 62, 6, 2, 61, 12, 78]\n",
    "print(merge_sort(arr))          "
   ]
  },
  {
   "cell_type": "code",
   "execution_count": 28,
   "id": "f8ce4024-a066-4816-b6b2-e5680e18b6fd",
   "metadata": {},
   "outputs": [
    {
     "name": "stdout",
     "output_type": "stream",
     "text": [
      "[2, 2, 4, 6, 12, 12, 54, 61, 62, 78, 564]\n"
     ]
    }
   ],
   "source": [
    "def merge_sort1(arr):\n",
    "    if len(arr) > 1:\n",
    "        mid = len(arr) // 2\n",
    "        left = arr[:mid]\n",
    "        right = arr[mid:]\n",
    "\n",
    "        merge_sort1(left)\n",
    "        merge_sort1(right)\n",
    "\n",
    "        i=j=k=0\n",
    "\n",
    "        while i < len(left) and j < len(right):\n",
    "            if left[i] < right[j]:\n",
    "                arr[k] = left[i]\n",
    "                i+=1\n",
    "            else:\n",
    "                arr[k] = right[j]\n",
    "                j+=1\n",
    "            k += 1\n",
    "\n",
    "        while i < len(left):\n",
    "            arr[k] = left[i]\n",
    "            i += 1\n",
    "            k += 1\n",
    "\n",
    "        while j < len(right):\n",
    "            arr[k] = right[j]\n",
    "            j += 1\n",
    "            k += 1\n",
    "    return arr\n",
    "    \n",
    "arr = [12, 4, 54, 2, 564, 62, 6, 2, 61, 12, 78]\n",
    "print(merge_sort1(arr))              "
   ]
  },
  {
   "cell_type": "code",
   "execution_count": null,
   "id": "bfcc28ed-eef9-4adc-8b93-e855af1598c2",
   "metadata": {},
   "outputs": [],
   "source": []
  }
 ],
 "metadata": {
  "kernelspec": {
   "display_name": "Python 3 (ipykernel)",
   "language": "python",
   "name": "python3"
  },
  "language_info": {
   "codemirror_mode": {
    "name": "ipython",
    "version": 3
   },
   "file_extension": ".py",
   "mimetype": "text/x-python",
   "name": "python",
   "nbconvert_exporter": "python",
   "pygments_lexer": "ipython3",
   "version": "3.13.2"
  }
 },
 "nbformat": 4,
 "nbformat_minor": 5
}
