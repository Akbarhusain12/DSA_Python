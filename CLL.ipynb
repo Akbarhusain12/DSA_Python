{
 "cells": [
  {
   "cell_type": "code",
   "execution_count": 6,
   "id": "0c171807-beb7-4176-90cd-7447c8655631",
   "metadata": {},
   "outputs": [
    {
     "name": "stdout",
     "output_type": "stream",
     "text": [
      "5 --> 10 --> 15 --> 20 --> 25\n"
     ]
    }
   ],
   "source": [
    "class Node:\n",
    "    def __init__(self, item=None, next=None):\n",
    "        self.item = item\n",
    "        self.next = next\n",
    "\n",
    "class CLL:\n",
    "    def __init__(self, last=None):\n",
    "        self.last= last\n",
    "\n",
    "    def is_empty(self):\n",
    "        return self.last == None\n",
    "\n",
    "    def insert_beg(self,data):\n",
    "        n = Node(data)\n",
    "        if self.is_empty():\n",
    "            n.next = n\n",
    "            self.last = n\n",
    "        else:\n",
    "            n.next = self.last.next\n",
    "            self.last.next = n\n",
    "\n",
    "    def insert_last(self,data):\n",
    "        n = Node(data)\n",
    "        if self.is_empty():\n",
    "            n.next = n\n",
    "            self.last = n\n",
    "        else:\n",
    "            n.next = self.last.next\n",
    "            self.last.next = n\n",
    "            self.last = n\n",
    "\n",
    "    def search(self,data):\n",
    "        if self.is_empty():\n",
    "            return None\n",
    "        temp = self.last.next\n",
    "\n",
    "        while temp != self.last:\n",
    "            if temp.item == data:\n",
    "                return temp\n",
    "            temp = temp.next\n",
    "        if temp.item == data:\n",
    "            return temp\n",
    "        return None\n",
    "\n",
    "    def insert_after(self,pos,data):\n",
    "        if pos is not None:\n",
    "            n = Node(data,pos.next)\n",
    "            pos.next = n\n",
    "            if pos == self.last:\n",
    "                self.last = n\n",
    "            \n",
    "    def display(self):\n",
    "        if not self.is_empty():\n",
    "            temp = self.last.next\n",
    "            while temp != self.last:\n",
    "                print(temp.item,\"-->\", end=\" \")\n",
    "                temp = temp.next\n",
    "            print(temp.item)\n",
    "\n",
    "c = CLL()\n",
    "c.insert_beg(10)\n",
    "c.insert_beg(5)\n",
    "c.insert_last(15)\n",
    "c.insert_last(20)\n",
    "c.insert_after(c.search(20),25)\n",
    "c.display()"
   ]
  },
  {
   "cell_type": "code",
   "execution_count": null,
   "id": "316416f2-813e-4419-bacd-ad39b3de675d",
   "metadata": {},
   "outputs": [],
   "source": []
  }
 ],
 "metadata": {
  "kernelspec": {
   "display_name": "Python 3 (ipykernel)",
   "language": "python",
   "name": "python3"
  },
  "language_info": {
   "codemirror_mode": {
    "name": "ipython",
    "version": 3
   },
   "file_extension": ".py",
   "mimetype": "text/x-python",
   "name": "python",
   "nbconvert_exporter": "python",
   "pygments_lexer": "ipython3",
   "version": "3.12.2"
  }
 },
 "nbformat": 4,
 "nbformat_minor": 5
}
