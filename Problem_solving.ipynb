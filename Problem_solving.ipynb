{
 "cells": [
  {
   "cell_type": "code",
   "execution_count": 27,
   "id": "9783adc1-0a62-4c25-b1ca-72a8b47d89f4",
   "metadata": {},
   "outputs": [
    {
     "name": "stdin",
     "output_type": "stream",
     "text": [
      " 2 5 10 12 15\n"
     ]
    },
    {
     "name": "stdout",
     "output_type": "stream",
     "text": [
      "The resulting tuple is: (10, 50, 120, 180)\n"
     ]
    }
   ],
   "source": [
    "y = []\n",
    "e = list(map(int, input().split()))\n",
    "\n",
    "for i in range(len(e) - 1):\n",
    "    y.append(e[i] * e[i + 1])\n",
    "\n",
    "y = tuple(y)\n",
    "print(\"The resulting tuple is:\", y)"
   ]
  },
  {
   "cell_type": "code",
   "execution_count": 38,
   "id": "70c49aec-a2ca-4ce6-afdc-9337b15e2132",
   "metadata": {},
   "outputs": [
    {
     "name": "stdout",
     "output_type": "stream",
     "text": [
      "After sorting: [(1, 2), (2, 3), (4, 4), (2, 5)]\n"
     ]
    }
   ],
   "source": [
    "num = [(2,5),(1,2),(4,4),(2,3)]\n",
    "size = len(num) \n",
    "\n",
    "for i in range(0, size):\n",
    "    for j in range(0, size - i - 1):\n",
    "        if num[j][1] > num[j + 1][1]:\n",
    "            num[j],num[j+1] = num[j+1],num[j]\n",
    "print(\"After sorting:\", num)"
   ]
  },
  {
   "cell_type": "code",
   "execution_count": null,
   "id": "c8bd7223-7bf1-45a4-95b7-c912f3fc9264",
   "metadata": {},
   "outputs": [],
   "source": []
  }
 ],
 "metadata": {
  "kernelspec": {
   "display_name": "Python 3 (ipykernel)",
   "language": "python",
   "name": "python3"
  },
  "language_info": {
   "codemirror_mode": {
    "name": "ipython",
    "version": 3
   },
   "file_extension": ".py",
   "mimetype": "text/x-python",
   "name": "python",
   "nbconvert_exporter": "python",
   "pygments_lexer": "ipython3",
   "version": "3.12.2"
  }
 },
 "nbformat": 4,
 "nbformat_minor": 5
}
