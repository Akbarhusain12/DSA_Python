{
 "cells": [
  {
   "cell_type": "code",
   "execution_count": 11,
   "id": "a7caf32f-7c06-4fc1-a06b-e9ac6e3cfdae",
   "metadata": {},
   "outputs": [
    {
     "name": "stdout",
     "output_type": "stream",
     "text": [
      "0-->1-->2-->3-->4-->"
     ]
    }
   ],
   "source": [
    "from collections import deque\n",
    "\n",
    "def bfs(adj, start):\n",
    "    visited = [False] * len(adj)\n",
    "    queue = deque([start])\n",
    "    visited[start] = True\n",
    "\n",
    "    while queue:\n",
    "        node = queue.popleft()\n",
    "        print(node, end=\"-->\")\n",
    "\n",
    "        for neighbor in adj[node]:\n",
    "            if not visited[neighbor]:\n",
    "                visited[neighbor] = True\n",
    "                queue.append(neighbor)\n",
    "\n",
    "\n",
    "adj = [\n",
    "    [1, 2],     # 0\n",
    "    [0, 2, 3],  # 1\n",
    "    [0, 4],     # 2\n",
    "    [1, 4],     # 3\n",
    "    [2, 3]      # 4\n",
    "]\n",
    "\n",
    "bfs(adj, 0)\n"
   ]
  },
  {
   "cell_type": "code",
   "execution_count": 5,
   "id": "710b26a1-515b-48d2-b085-dbdf34d2d2b7",
   "metadata": {},
   "outputs": [
    {
     "name": "stdout",
     "output_type": "stream",
     "text": [
      "0 1 2 4 3 "
     ]
    }
   ],
   "source": [
    "def dfs(adj, node, visited):\n",
    "    visited[node] = True\n",
    "    print(node, end=\" \")\n",
    "\n",
    "    for neighbor in adj[node]:\n",
    "        if not visited[neighbor]:\n",
    "            dfs(adj, neighbor, visited)\n",
    "\n",
    "\n",
    "\n",
    "adj = [\n",
    "    [1, 2],     # 0\n",
    "    [0, 2, 3],  # 1\n",
    "    [0, 4],     # 2\n",
    "    [1, 4],     # 3\n",
    "    [2, 3]      # 4\n",
    "]\n",
    "\n",
    "visited = [False] * len(adj)\n",
    "dfs(adj, 0, visited)\n"
   ]
  },
  {
   "cell_type": "code",
   "execution_count": 2,
   "id": "dbafd3e2-db94-4726-9514-52331e735ebe",
   "metadata": {},
   "outputs": [
    {
     "name": "stdout",
     "output_type": "stream",
     "text": [
      "0 1 2 4 3 "
     ]
    }
   ],
   "source": [
    "def dfs1(graph, node, visited=None):\n",
    "    if visited is None:\n",
    "        visited = [False] * len(graph)  # Boolean list for visited\n",
    "\n",
    "    print(node, end=' ')     # Visit current node\n",
    "    visited[node] = True     # Mark as visited\n",
    "\n",
    "    for neighbour in graph[node]:  # Loop through all neighbors\n",
    "        if not visited[neighbour]:\n",
    "            dfs1(graph, neighbour, visited)  # Recursively visit next\n",
    "\n",
    "# Graph represented as an adjacency list\n",
    "adj = [\n",
    "    [1, 2],     # 0\n",
    "    [0, 2, 3],  # 1\n",
    "    [0, 4],     # 2\n",
    "    [1, 4],     # 3\n",
    "    [2, 3]      # 4\n",
    "]\n",
    "\n",
    "# Start DFS from node 0\n",
    "dfs1(adj, 0)\n"
   ]
  }
 ],
 "metadata": {
  "kernelspec": {
   "display_name": "Python 3 (ipykernel)",
   "language": "python",
   "name": "python3"
  },
  "language_info": {
   "codemirror_mode": {
    "name": "ipython",
    "version": 3
   },
   "file_extension": ".py",
   "mimetype": "text/x-python",
   "name": "python",
   "nbconvert_exporter": "python",
   "pygments_lexer": "ipython3",
   "version": "3.13.2"
  }
 },
 "nbformat": 4,
 "nbformat_minor": 5
}
