{
 "cells": [
  {
   "cell_type": "code",
   "execution_count": 4,
   "id": "778992b3-bffe-488d-9278-59f07533804e",
   "metadata": {},
   "outputs": [
    {
     "name": "stdout",
     "output_type": "stream",
     "text": [
      "10 -> 20 -> 30 -> None\n"
     ]
    }
   ],
   "source": [
    "# class Node:\n",
    "#     def __init__(self,data):\n",
    "#         self.data = data\n",
    "#         self.prev = None\n",
    "#         self.next = None\n",
    "\n",
    "# class Double_LL:\n",
    "#     def __init__(self):\n",
    "#         self.head = None\n",
    "\n",
    "#     def display(self):\n",
    "#         if self.head is None:\n",
    "#             print(\"LL is empty\")\n",
    "#         else:\n",
    "#             temp = self.head\n",
    "#             while temp:\n",
    "#                 print(temp.data,\"->\", end=\" \")\n",
    "#                 temp = temp.next\n",
    "#             print(\"None\")\n",
    "\n",
    "# D = Double_LL()\n",
    "# n1 = Node(10)\n",
    "# D.head = n1\n",
    "\n",
    "# n2 = Node(20)\n",
    "# n1.next = n2\n",
    "# n2.prev = n1\n",
    "\n",
    "# n3 = Node(30)\n",
    "# n2.next = n3\n",
    "# n3.prev = n2\n",
    "\n",
    "\n",
    "# D.display()"
   ]
  },
  {
   "cell_type": "code",
   "execution_count": 47,
   "id": "7fafcdd2-5654-440e-aa05-b20120cd5aa3",
   "metadata": {},
   "outputs": [
    {
     "name": "stdout",
     "output_type": "stream",
     "text": [
      "5 -> 10 -> 15 -> 20 -> 25 -> None\n"
     ]
    }
   ],
   "source": [
    "class Node:\n",
    "    def __init__(self, prev=None, item=None, next=None):\n",
    "        self.prev = prev\n",
    "        self.item = item\n",
    "        self.next = next\n",
    "\n",
    "class DLL:\n",
    "    def __init__(self, start=None):\n",
    "        self.start = start\n",
    "\n",
    "    def is_empty(self):\n",
    "        return self.start is None\n",
    "\n",
    "    def insert_at_start(self, data):\n",
    "        n = Node(None, data, self.start)\n",
    "        if not self.is_empty():\n",
    "            self.start.prev = n\n",
    "        self.start = n\n",
    "\n",
    "    def insert_at_last(self, data):  \n",
    "        if self.is_empty():\n",
    "            self.start = Node(None, data, None) \n",
    "            return\n",
    "\n",
    "        temp = self.start\n",
    "        while temp.next is not None:  \n",
    "            temp = temp.next\n",
    "\n",
    "        n = Node(temp, data, None)  \n",
    "        temp.next = n  \n",
    "        n.prev = temp  \n",
    "\n",
    "    def search(self, data):\n",
    "        temp = self.start\n",
    "        while temp is not None:\n",
    "            if temp.item == data:\n",
    "                return temp\n",
    "            temp = temp.next\n",
    "        return None\n",
    "\n",
    "    def insert_after(self, temp, data):\n",
    "        if temp is not None:\n",
    "            n = Node(temp, data, temp.next)\n",
    "            if temp.next is not None:\n",
    "                temp.next.prev = n\n",
    "            temp.next = n\n",
    "\n",
    "    def display(self):\n",
    "        if self.start is None:\n",
    "            print(\"LL is empty\")\n",
    "        else:\n",
    "            temp = self.start\n",
    "            while temp:\n",
    "                print(temp.item, \"->\", end=\" \")\n",
    "                temp = temp.next\n",
    "            print(\"None\")\n",
    "\n",
    "\n",
    "d = DLL()\n",
    "d.insert_at_start(10)\n",
    "d.insert_at_start(5)\n",
    "d.insert_at_last(15)\n",
    "d.insert_at_last(20)\n",
    "d.insert_after(d.search(20),25)\n",
    "d.display()"
   ]
  },
  {
   "cell_type": "code",
   "execution_count": null,
   "id": "d6a65579-7acc-47d6-bbf1-dd0df47626ec",
   "metadata": {},
   "outputs": [],
   "source": []
  }
 ],
 "metadata": {
  "kernelspec": {
   "display_name": "Python 3 (ipykernel)",
   "language": "python",
   "name": "python3"
  },
  "language_info": {
   "codemirror_mode": {
    "name": "ipython",
    "version": 3
   },
   "file_extension": ".py",
   "mimetype": "text/x-python",
   "name": "python",
   "nbconvert_exporter": "python",
   "pygments_lexer": "ipython3",
   "version": "3.12.2"
  }
 },
 "nbformat": 4,
 "nbformat_minor": 5
}
