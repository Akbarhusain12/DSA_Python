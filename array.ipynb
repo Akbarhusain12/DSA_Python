{
 "cells": [
  {
   "cell_type": "code",
   "execution_count": 1,
   "id": "cdf24e52-80e9-4b47-b3be-6957337ea88c",
   "metadata": {},
   "outputs": [],
   "source": [
    "import array as arr"
   ]
  },
  {
   "cell_type": "code",
   "execution_count": 5,
   "id": "a6d095dd-5ea8-46cd-9dec-bd9fc58b468d",
   "metadata": {},
   "outputs": [
    {
     "data": {
      "text/plain": [
       "array.array"
      ]
     },
     "execution_count": 5,
     "metadata": {},
     "output_type": "execute_result"
    }
   ],
   "source": [
    "x = arr.array('i',[3,52,7,8,4,5])\n",
    "type(x)"
   ]
  },
  {
   "cell_type": "code",
   "execution_count": 10,
   "id": "6ca9b081-6620-4f8c-892e-bc5b25f2fc94",
   "metadata": {},
   "outputs": [
    {
     "name": "stdout",
     "output_type": "stream",
     "text": [
      "Average = 13.166666666666666\n"
     ]
    }
   ],
   "source": [
    "avg = sum(x) / len(x)\n",
    "print(\"Average =\", avg)"
   ]
  },
  {
   "cell_type": "code",
   "execution_count": null,
   "id": "2c939faf-e413-4b8b-a804-43a53d2c43c2",
   "metadata": {},
   "outputs": [],
   "source": []
  }
 ],
 "metadata": {
  "kernelspec": {
   "display_name": "Python 3 (ipykernel)",
   "language": "python",
   "name": "python3"
  },
  "language_info": {
   "codemirror_mode": {
    "name": "ipython",
    "version": 3
   },
   "file_extension": ".py",
   "mimetype": "text/x-python",
   "name": "python",
   "nbconvert_exporter": "python",
   "pygments_lexer": "ipython3",
   "version": "3.12.2"
  }
 },
 "nbformat": 4,
 "nbformat_minor": 5
}
