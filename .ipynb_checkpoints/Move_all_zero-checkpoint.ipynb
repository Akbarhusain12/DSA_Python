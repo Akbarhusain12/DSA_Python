{
 "cells": [
  {
   "cell_type": "code",
   "execution_count": 12,
   "id": "70c7dee8-9bb4-4e54-9ea4-39b0eeacba41",
   "metadata": {},
   "outputs": [
    {
     "name": "stdout",
     "output_type": "stream",
     "text": [
      "[1, 1, 1, 1, 1, 1, 1, 1, 1, 1, 1, 0, 0, 0, 0, 0, 0]\n"
     ]
    }
   ],
   "source": [
    "x = [1,0,0,1,0,1,0,1,2,2,2,1,2,2,3,6,0,0,1,1,1,1,1,1]\n",
    "list1 = []\n",
    "count = 0\n",
    "\n",
    "for i in range(len(x)):\n",
    "    if x[i] == 1:\n",
    "        list1.append(x[i])\n",
    "    elif x[i] == 0:\n",
    "        count += 1\n",
    "\n",
    "res = list1 + [0] * count  \n",
    "print(res)"
   ]
  },
  {
   "cell_type": "code",
   "execution_count": 16,
   "id": "54f93e8c-636c-48db-9471-1cbaa106e688",
   "metadata": {},
   "outputs": [
    {
     "name": "stdout",
     "output_type": "stream",
     "text": [
      "[1, 1, 1, 1, 1, 1, 1, 1, 0, 0, 0, 0, 0, 0, 0]\n"
     ]
    }
   ],
   "source": [
    "x = 1101010102010101\n",
    "list1 = []\n",
    "count = 0\n",
    "\n",
    "while x>0:\n",
    "    last_d = x%10\n",
    "    if last_d == 1:\n",
    "        list1.append(last_d)\n",
    "    elif last_d == 0:\n",
    "        count += 1\n",
    "    x //= 10\n",
    "\n",
    "res = list1 + [0] * count  \n",
    "print(res)"
   ]
  },
  {
   "cell_type": "code",
   "execution_count": null,
   "id": "d782129a-1785-4c7e-9d68-276a08505692",
   "metadata": {},
   "outputs": [],
   "source": []
  }
 ],
 "metadata": {
  "kernelspec": {
   "display_name": "Python 3 (ipykernel)",
   "language": "python",
   "name": "python3"
  },
  "language_info": {
   "codemirror_mode": {
    "name": "ipython",
    "version": 3
   },
   "file_extension": ".py",
   "mimetype": "text/x-python",
   "name": "python",
   "nbconvert_exporter": "python",
   "pygments_lexer": "ipython3",
   "version": "3.12.2"
  }
 },
 "nbformat": 4,
 "nbformat_minor": 5
}
