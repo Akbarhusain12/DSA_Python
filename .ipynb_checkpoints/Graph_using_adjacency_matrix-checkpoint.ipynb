{
 "cells": [
  {
   "cell_type": "code",
   "execution_count": null,
   "id": "1e8a7e69-3fe2-4a13-a324-b94862615333",
   "metadata": {},
   "outputs": [],
   "source": [
    "class Graph:\n",
    "    def __init__(self, size=0):\n",
    "        self.size = size\n",
    "        self.items = [[0 for in range(size)] for j in range(size)]\n",
    "\n",
    "    def is_empty(self):\n",
    "        return self.size = 0\n",
    "\n",
    "    def insert_vertex(self):\n",
    "        for i in range(self.size):\n",
    "            self.items[i].append(0)\n",
    "        self.items.append([0 for i in range(self.size + 1)])\n",
    "        self.size += 1\n",
    "\n",
    "    def insert_edge(self, vi, vj):\n",
    "        if vi >= self.size or vj >= self.size:\n",
    "            print(\"Invalid vertex index\")\n",
    "            return \n",
    "        self.items[vi][vj] = 1\n",
    "        self.items[vj][vi] = 1\n",
    "\n",
    "    def delete_vertex(self, v):\n",
    "        if v>= self.size:\n",
    "            print(\"vertex not found\")\n",
    "            return\n",
    "        for i in range(self.size):\n",
    "            del self.items[i][v]\n",
    "        del self.items[v]\n",
    "        self.size -= 1\n",
    "        print(\"Vertex removed\")\n",
    "\n",
    "\n",
    "    def delete_edge(self, vi, vj):\n",
    "        if vi>= self.size or vj >= self.size:\n",
    "            print(\"vertex not found\")\n",
    "            return\n",
    "        self.items[vi][vj] = 0\n",
    "        self.items[vj][vi] = 0\n",
    "        print(\"Edge removed\")\n",
    "\n",
    "    def display(self):\n",
    "        for i in range(self.size):\n",
    "            print(\"v{} |\".format(i), end=\" \")\n",
    "            for j in range(self.size):\n",
    "                "
   ]
  }
 ],
 "metadata": {
  "kernelspec": {
   "display_name": "Python 3 (ipykernel)",
   "language": "python",
   "name": "python3"
  },
  "language_info": {
   "codemirror_mode": {
    "name": "ipython",
    "version": 3
   },
   "file_extension": ".py",
   "mimetype": "text/x-python",
   "name": "python",
   "nbconvert_exporter": "python",
   "pygments_lexer": "ipython3",
   "version": "3.13.2"
  }
 },
 "nbformat": 4,
 "nbformat_minor": 5
}
