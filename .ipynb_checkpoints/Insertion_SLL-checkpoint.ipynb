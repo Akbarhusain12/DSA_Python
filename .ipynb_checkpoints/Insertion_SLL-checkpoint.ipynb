{
 "cells": [
  {
   "cell_type": "code",
   "execution_count": 8,
   "id": "133fcb4d-ad3f-46aa-84e5-a1955c9558b6",
   "metadata": {},
   "outputs": [
    {
     "name": "stdin",
     "output_type": "stream",
     "text": [
      " 40\n"
     ]
    },
    {
     "name": "stdout",
     "output_type": "stream",
     "text": [
      "5 --> 10 --> 20 --> 25 --> 30 --> 40 --> 25 --> None\n"
     ]
    }
   ],
   "source": [
    "# Node class to represent each node in the linked list\n",
    "class Node:\n",
    "    def __init__(self, data):\n",
    "        self.data = data  # The value/data stored in the node\n",
    "        self.next = None  # Pointer to the next node in the linked list\n",
    "\n",
    "\n",
    "# SingleLinkedList class to manage the linked list operations\n",
    "class SingleLinkedList:\n",
    "    def __init__(self):\n",
    "        self.head = None  # Initialize the head of the linked list as None\n",
    "\n",
    "    \n",
    "    # Insert a new node at the beginning of the linked list\n",
    "    def insert_beg(self, data):\n",
    "        new_node = Node(data)  # Create a new node with the given data\n",
    "        new_node.next = self.head  # Point the new node to the current head\n",
    "        self.head = new_node  # Update the head to the new node\n",
    "\n",
    "\n",
    "    \n",
    "    # Insert a new node at the end of the linked list\n",
    "    def insert_end(self, data):\n",
    "        new_node = Node(data)  # Create a new node with the given data\n",
    "        # If the linked list is empty, set the new node as the head\n",
    "        if self.head is None:\n",
    "            self.head = new_node\n",
    "            return\n",
    "        temp = self.head  # Start traversing from the head\n",
    "        while temp.next:  # Traverse to the last node\n",
    "            temp = temp.next\n",
    "        temp.next = new_node  # Point the last node to the new node\n",
    "\n",
    "\n",
    "    \n",
    "    # Insert a new node at a specific position (1-based index) in the linked list\n",
    "    def insert_position(self, pos, data):\n",
    "        new_node = Node(data)  # Create a new node with the given data\n",
    "        # If the position is at the beginning, use insert_beg\n",
    "        if pos == 1:\n",
    "            self.insert_beg(data)\n",
    "            return\n",
    "        temp = self.head  # Start traversing from the head\n",
    "        # Traverse to the node before the specified position\n",
    "        for i in range(pos - 2):\n",
    "            if temp is None:\n",
    "                print(\"Position out of bounds\")\n",
    "                return\n",
    "            temp = temp.next\n",
    "        # Insert the new node at the specified position\n",
    "        new_node.next = temp.next\n",
    "        temp.next = new_node\n",
    "\n",
    "    # Display all the elements in the linked list\n",
    "    def display(self):\n",
    "        if self.head is None:\n",
    "            print(\"Linked List is empty\")  # Handle the case when the list is empty\n",
    "        else:\n",
    "            temp = self.head  # Start traversing from the head\n",
    "            while temp:  # Continue until the end of the list\n",
    "                print(temp.data, \"-->\", end=\" \")  # Print the current node's data\n",
    "                temp = temp.next\n",
    "            print(\"None\")  # Indicate the end of the linked list\n",
    "\n",
    "\n",
    "\n",
    "# Create a new SingleLinkedList instance\n",
    "L = SingleLinkedList()\n",
    "\n",
    "# Manually create nodes and connect them to form the initial linked list\n",
    "N = Node(10)\n",
    "L.head = N\n",
    "n1 = Node(20)\n",
    "L.head.next = n1\n",
    "n2 = Node(30)\n",
    "n1.next = n2\n",
    "n3 = Node(int(input()))\n",
    "n2.next = n3\n",
    "\n",
    "# Perform insert operations\n",
    "L.insert_beg(5)          # Insert 5 at the beginning\n",
    "L.insert_end(25)         # Insert 25 at the end\n",
    "L.insert_position(4, 25) # Insert 25 at position 4\n",
    "\n",
    "\n",
    "# Display the linked list\n",
    "L.display()"
   ]
  },
  {
   "cell_type": "code",
   "execution_count": null,
   "id": "0169efb1-ec4a-4fab-bcbc-6a71559f7630",
   "metadata": {},
   "outputs": [],
   "source": [
    " "
   ]
  }
 ],
 "metadata": {
  "kernelspec": {
   "display_name": "Python 3 (ipykernel)",
   "language": "python",
   "name": "python3"
  },
  "language_info": {
   "codemirror_mode": {
    "name": "ipython",
    "version": 3
   },
   "file_extension": ".py",
   "mimetype": "text/x-python",
   "name": "python",
   "nbconvert_exporter": "python",
   "pygments_lexer": "ipython3",
   "version": "3.12.2"
  }
 },
 "nbformat": 4,
 "nbformat_minor": 5
}
