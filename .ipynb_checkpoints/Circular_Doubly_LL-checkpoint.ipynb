{
 "cells": [
  {
   "cell_type": "code",
   "execution_count": 1,
   "id": "34ce14d7-a154-44dd-bb39-602066e21316",
   "metadata": {},
   "outputs": [
    {
     "name": "stdout",
     "output_type": "stream",
     "text": [
      "1 -> 5 -> 10 -> None\n"
     ]
    }
   ],
   "source": [
    "class Node:\n",
    "    def __init__(self, prev = None, item = None, next = None):\n",
    "        self.prev = prev\n",
    "        self.item = item\n",
    "        self.next = next\n",
    "\n",
    "\n",
    "class CD_LL:\n",
    "    def __init__(self, start=None):\n",
    "        self.start = start\n",
    "\n",
    "    def is_empty(self):\n",
    "        return self.start is None\n",
    "\n",
    "    def insert_at_beg(self,data):\n",
    "        n = Node(None, data, None)\n",
    "        if not self.is_empty():\n",
    "            n.next = self.start\n",
    "            n.prev = self.start.prev\n",
    "            self.start.prev.next = n\n",
    "            self.start.prev = n\n",
    "            self.start = n\n",
    "            \n",
    "        else:\n",
    "            n.next = n\n",
    "            n.prev = n\n",
    "            self.start = n\n",
    "\n",
    "\n",
    "    def display(self):\n",
    "        if self.start is None:\n",
    "            print(\"LL is empty\")\n",
    "        else:\n",
    "            temp = self.start\n",
    "            while True:\n",
    "                print(temp.item, \"->\", end=\" \")\n",
    "                temp = temp.next\n",
    "                if temp == self.start: \n",
    "                    break\n",
    "            print(\"None\")\n",
    "\n",
    "cd = CD_LL()\n",
    "\n",
    "cd.insert_at_beg(10)\n",
    "cd.insert_at_beg(5)\n",
    "cd.insert_at_beg(1)\n",
    "cd.display()"
   ]
  },
  {
   "cell_type": "code",
   "execution_count": null,
   "id": "ccced0a1-20ff-4bc4-9a63-3b003adf964b",
   "metadata": {},
   "outputs": [],
   "source": []
  }
 ],
 "metadata": {
  "kernelspec": {
   "display_name": "Python 3 (ipykernel)",
   "language": "python",
   "name": "python3"
  },
  "language_info": {
   "codemirror_mode": {
    "name": "ipython",
    "version": 3
   },
   "file_extension": ".py",
   "mimetype": "text/x-python",
   "name": "python",
   "nbconvert_exporter": "python",
   "pygments_lexer": "ipython3",
   "version": "3.12.2"
  }
 },
 "nbformat": 4,
 "nbformat_minor": 5
}
