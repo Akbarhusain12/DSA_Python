{
 "cells": [
  {
   "cell_type": "code",
   "execution_count": 5,
   "id": "9336fc7f-0696-4e29-9d83-2651d925af0e",
   "metadata": {},
   "outputs": [
    {
     "name": "stdout",
     "output_type": "stream",
     "text": [
      "[1, 2, 3, 4, 5, 6, 7, 8]\n",
      "[1, 2, 3, 4, 5, 6, 7, 8]\n",
      "[1, 2, 3, 4, 5, 6, 7, 8]\n",
      "[1, 2, 2, 3, 4, 4, 7, 7]\n",
      "[10]\n"
     ]
    }
   ],
   "source": [
    "def merge_sort(arr):\n",
    "    if len(arr) <= 1:\n",
    "        return  # Base case: a single element array is already sorted\n",
    "\n",
    "    mid = len(arr) // 2\n",
    "    left = arr[:mid]  # Split the array into two halves\n",
    "    right = arr[mid:]\n",
    "\n",
    "    # Recursively sort both halves\n",
    "    merge_sort(left)\n",
    "    merge_sort(right)\n",
    "\n",
    "    # Merge the sorted halves back into the original array\n",
    "    merge_two_sorted_list(left, right, arr)\n",
    "\n",
    "def merge_two_sorted_list(a, b, arr):\n",
    "    len_a = len(a)\n",
    "    len_b = len(b)\n",
    "\n",
    "    i = j = k = 0  # Pointers for a, b, and arr\n",
    "\n",
    "    # Merge the two sorted arrays\n",
    "    while i < len_a and j < len_b:\n",
    "        if a[i] <= b[j]:\n",
    "            arr[k] = a[i]\n",
    "            i += 1\n",
    "        else:\n",
    "            arr[k] = b[j]\n",
    "            j += 1\n",
    "        k += 1\n",
    "\n",
    "    # Copy any remaining elements from a\n",
    "    while i < len_a:\n",
    "        arr[k] = a[i]\n",
    "        i += 1\n",
    "        k += 1\n",
    "\n",
    "    # Copy any remaining elements from b\n",
    "    while j < len_b:\n",
    "        arr[k] = b[j]\n",
    "        j += 1\n",
    "        k += 1\n",
    "\n",
    "# Input array\n",
    "test_cases = [\n",
    "    [5, 3, 8, 6, 2, 7, 4, 1],\n",
    "    [1, 2, 3, 4, 5, 6, 7, 8],\n",
    "    [8, 7, 6, 5, 4, 3, 2, 1],\n",
    "    [4, 2, 7, 4, 3, 2, 1, 7],\n",
    "    [10]\n",
    "]\n",
    "\n",
    "for arr in test_cases:\n",
    "    merge_sort(arr)\n",
    "    print(arr)"
   ]
  },
  {
   "cell_type": "code",
   "execution_count": null,
   "id": "522f6507-ac57-424c-b451-df7fc69f4568",
   "metadata": {},
   "outputs": [],
   "source": []
  }
 ],
 "metadata": {
  "kernelspec": {
   "display_name": "Python 3 (ipykernel)",
   "language": "python",
   "name": "python3"
  },
  "language_info": {
   "codemirror_mode": {
    "name": "ipython",
    "version": 3
   },
   "file_extension": ".py",
   "mimetype": "text/x-python",
   "name": "python",
   "nbconvert_exporter": "python",
   "pygments_lexer": "ipython3",
   "version": "3.12.2"
  }
 },
 "nbformat": 4,
 "nbformat_minor": 5
}
