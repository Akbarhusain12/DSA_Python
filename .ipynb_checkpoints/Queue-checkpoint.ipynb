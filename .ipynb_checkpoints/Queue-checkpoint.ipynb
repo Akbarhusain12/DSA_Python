{
 "cells": [
  {
   "cell_type": "code",
   "execution_count": 4,
   "id": "b96b45c0-c46e-47b3-98b8-02ec9e1cd314",
   "metadata": {},
   "outputs": [
    {
     "name": "stdout",
     "output_type": "stream",
     "text": [
      "10\n",
      "Removed -  10\n",
      "20\n"
     ]
    }
   ],
   "source": [
    "# Queue using list\n",
    "\n",
    "class Queue:\n",
    "    def __init__(self):\n",
    "        self.items = []\n",
    "        self.item_count = 0\n",
    "\n",
    "    def is_empty(self):\n",
    "        return self.item_count == 0\n",
    "\n",
    "    def enqueue(self, data):\n",
    "        self.items.append(data)\n",
    "        self.item_count += 1\n",
    "\n",
    "    def dequeue(self):\n",
    "        if not self.is_empty():\n",
    "            return self.items.pop(0)\n",
    "            self.item_count -= 1\n",
    "        else:\n",
    "            print(\"Queue is Empty\")\n",
    "\n",
    "    def peek(self):\n",
    "        if not self.is_empty():\n",
    "            return self.items[0]\n",
    "        else:\n",
    "            print(\"Queue is Empty\")\n",
    "        \n",
    "        \n",
    "\n",
    "q = Queue()\n",
    "\n",
    "\n",
    "q.enqueue(10)\n",
    "q.enqueue(20)\n",
    "q.enqueue(30)\n",
    "\n",
    "print(q.peek())\n",
    "print(\"Removed - \",q.dequeue())\n",
    "print(q.peek())"
   ]
  },
  {
   "cell_type": "code",
   "execution_count": null,
   "id": "8d3308a6-ef37-4e5a-b0c4-e104bddc0c85",
   "metadata": {},
   "outputs": [],
   "source": []
  }
 ],
 "metadata": {
  "kernelspec": {
   "display_name": "Python 3 (ipykernel)",
   "language": "python",
   "name": "python3"
  },
  "language_info": {
   "codemirror_mode": {
    "name": "ipython",
    "version": 3
   },
   "file_extension": ".py",
   "mimetype": "text/x-python",
   "name": "python",
   "nbconvert_exporter": "python",
   "pygments_lexer": "ipython3",
   "version": "3.13.2"
  }
 },
 "nbformat": 4,
 "nbformat_minor": 5
}
