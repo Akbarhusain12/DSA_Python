{
 "cells": [
  {
   "cell_type": "code",
   "execution_count": null,
   "id": "8b37661d-5ef7-45c7-b423-97fe761e7531",
   "metadata": {},
   "outputs": [],
   "source": [
    "class Node:\n",
    "    def __init__(self, Data, next):\n",
    "        self.data = Data\n",
    "        self.next = next\n",
    "\n",
    "class Queue:\n",
    "    def __init__(self):\n",
    "        self.prev = None\n",
    "        self.next = None\n",
    "\n",
    "    def is_empty(self):\n",
    "        "
   ]
  }
 ],
 "metadata": {
  "kernelspec": {
   "display_name": "Python 3 (ipykernel)",
   "language": "python",
   "name": "python3"
  },
  "language_info": {
   "codemirror_mode": {
    "name": "ipython",
    "version": 3
   },
   "file_extension": ".py",
   "mimetype": "text/x-python",
   "name": "python",
   "nbconvert_exporter": "python",
   "pygments_lexer": "ipython3",
   "version": "3.13.2"
  }
 },
 "nbformat": 4,
 "nbformat_minor": 5
}
