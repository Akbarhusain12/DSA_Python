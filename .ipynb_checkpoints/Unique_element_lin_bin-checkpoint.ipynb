{
 "cells": [
  {
   "cell_type": "code",
   "execution_count": 65,
   "id": "75732c1b-42d3-455e-b04b-e494da4746bd",
   "metadata": {},
   "outputs": [
    {
     "name": "stdout",
     "output_type": "stream",
     "text": [
      "[40, 60]\n"
     ]
    }
   ],
   "source": [
    "def unique_elemt(arr):\n",
    "    frequency = {}  \n",
    "\n",
    "    for num in arr:\n",
    "        if num in frequency:\n",
    "            frequency[num] += 1\n",
    "        else:\n",
    "            frequency[num] = 1\n",
    "\n",
    "\n",
    "    unique = []\n",
    "    for num in arr:\n",
    "        if frequency[num] == 1:\n",
    "            unique.append(num)\n",
    "\n",
    "    return unique\n",
    "\n",
    "arr = [10, 10, 20, 20, 30, 30, 40, 50, 50, 60]\n",
    "print(unique_elemt(arr))"
   ]
  }
 ],
 "metadata": {
  "kernelspec": {
   "display_name": "Python 3 (ipykernel)",
   "language": "python",
   "name": "python3"
  },
  "language_info": {
   "codemirror_mode": {
    "name": "ipython",
    "version": 3
   },
   "file_extension": ".py",
   "mimetype": "text/x-python",
   "name": "python",
   "nbconvert_exporter": "python",
   "pygments_lexer": "ipython3",
   "version": "3.12.2"
  }
 },
 "nbformat": 4,
 "nbformat_minor": 5
}
