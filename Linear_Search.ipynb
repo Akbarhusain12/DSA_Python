{
 "cells": [
  {
   "cell_type": "code",
   "execution_count": 4,
   "id": "1e6236bb-15a3-49ac-a1c5-e1cb3af7885d",
   "metadata": {},
   "outputs": [
    {
     "name": "stdout",
     "output_type": "stream",
     "text": [
      "1\n"
     ]
    }
   ],
   "source": [
    "def linear_search(key, l):\n",
    "    index = 0\n",
    "    while(len(l)):\n",
    "        if l[index] == key:\n",
    "            return index\n",
    "        index = index + 1\n",
    "    return -1\n",
    "\n",
    "key = 3\n",
    "l = [2,3,5,5,1,6,6,7,1]\n",
    "print(linear_search(key,l))"
   ]
  },
  {
   "cell_type": "code",
   "execution_count": null,
   "id": "86c3eb8c-444f-44bb-ab29-d674eaa1f562",
   "metadata": {},
   "outputs": [],
   "source": []
  }
 ],
 "metadata": {
  "kernelspec": {
   "display_name": "Python 3 (ipykernel)",
   "language": "python",
   "name": "python3"
  },
  "language_info": {
   "codemirror_mode": {
    "name": "ipython",
    "version": 3
   },
   "file_extension": ".py",
   "mimetype": "text/x-python",
   "name": "python",
   "nbconvert_exporter": "python",
   "pygments_lexer": "ipython3",
   "version": "3.12.2"
  }
 },
 "nbformat": 4,
 "nbformat_minor": 5
}
