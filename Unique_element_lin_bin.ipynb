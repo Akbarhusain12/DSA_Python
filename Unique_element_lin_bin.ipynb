{
 "cells": [
  {
   "cell_type": "code",
   "execution_count": 82,
   "id": "75732c1b-42d3-455e-b04b-e494da4746bd",
   "metadata": {},
   "outputs": [
    {
     "name": "stdout",
     "output_type": "stream",
     "text": [
      "[60, 304, 15]\n"
     ]
    }
   ],
   "source": [
    "def unique_elemt(arr):\n",
    "    unique = []\n",
    "    \n",
    "    for i in range(len(arr)):  \n",
    "        for j in range(len(arr)):  \n",
    "            if i != j and arr[i] == arr[j]:\n",
    "                break\n",
    "        else:\n",
    "            unique.append(arr[i])\n",
    "    return unique\n",
    "\n",
    "arr = [10, 10, 20, 20, 30, 30, 40, 50, 50, 60,20,304,40,15]\n",
    "print(unique_elemt(arr))"
   ]
  },
  {
   "cell_type": "code",
   "execution_count": null,
   "id": "c970f509-8daf-4618-811a-1830882d6d2d",
   "metadata": {},
   "outputs": [],
   "source": []
  }
 ],
 "metadata": {
  "kernelspec": {
   "display_name": "Python 3 (ipykernel)",
   "language": "python",
   "name": "python3"
  },
  "language_info": {
   "codemirror_mode": {
    "name": "ipython",
    "version": 3
   },
   "file_extension": ".py",
   "mimetype": "text/x-python",
   "name": "python",
   "nbconvert_exporter": "python",
   "pygments_lexer": "ipython3",
   "version": "3.12.2"
  }
 },
 "nbformat": 4,
 "nbformat_minor": 5
}
