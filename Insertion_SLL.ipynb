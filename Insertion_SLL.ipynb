{
 "cells": [
  {
   "cell_type": "code",
   "execution_count": 16,
   "id": "133fcb4d-ad3f-46aa-84e5-a1955c9558b6",
   "metadata": {},
   "outputs": [
    {
     "name": "stdout",
     "output_type": "stream",
     "text": [
      "30 --> 40 --> 15 --> None\n"
     ]
    }
   ],
   "source": [
    "class Node:\n",
    "    def __init__(self, data):\n",
    "        self.data = data\n",
    "        self.next = None\n",
    "\n",
    "class Single_LL:\n",
    "    def __init__(self):\n",
    "        self.head = None\n",
    "\n",
    "    def insert_beg(self, data):\n",
    "        newNode = Node(data)\n",
    "        newNode.next = self.head\n",
    "        self.head = newNode\n",
    "\n",
    "    def insert_end(self, data):\n",
    "        newNode = Node(data)\n",
    "        if self.head is None:\n",
    "            self.head = newNode\n",
    "            return\n",
    "        \n",
    "        temp = self.head\n",
    "        while temp.next:\n",
    "            temp = temp.next\n",
    "        temp.next = newNode\n",
    "\n",
    "    def insert_pos(self, pos, data):\n",
    "        newNode = Node(data)\n",
    "\n",
    "        if pos == 1:\n",
    "            self.insert_beg(data)\n",
    "            return\n",
    "\n",
    "        temp = self.head\n",
    "        for i in range(1, pos-1):\n",
    "            if temp is None:\n",
    "                print(\"Position out of bounds\")\n",
    "                return\n",
    "            temp = temp.next\n",
    "\n",
    "        if temp is None:\n",
    "            print(\"Position out of bounds\")\n",
    "            return\n",
    "\n",
    "        newNode.next = temp.next\n",
    "        temp.next = newNode\n",
    "\n",
    "    def display(self):\n",
    "        if self.head is None:\n",
    "            print(\"Linked List is empty\")\n",
    "        else:\n",
    "            temp = self.head\n",
    "            while temp:\n",
    "                print(temp.data, \"-->\", end=\" \")\n",
    "                temp = temp.next\n",
    "            print(\"None\")\n",
    "\n",
    "L = Single_LL()\n",
    "# L.insert_beg(30)\n",
    "# L.insert_end(40)\n",
    "# L.insert_pos(3, 15)\n",
    "L.display()"
   ]
  },
  {
   "cell_type": "code",
   "execution_count": null,
   "id": "0169efb1-ec4a-4fab-bcbc-6a71559f7630",
   "metadata": {},
   "outputs": [],
   "source": [
    " "
   ]
  }
 ],
 "metadata": {
  "kernelspec": {
   "display_name": "Python 3 (ipykernel)",
   "language": "python",
   "name": "python3"
  },
  "language_info": {
   "codemirror_mode": {
    "name": "ipython",
    "version": 3
   },
   "file_extension": ".py",
   "mimetype": "text/x-python",
   "name": "python",
   "nbconvert_exporter": "python",
   "pygments_lexer": "ipython3",
   "version": "3.12.2"
  }
 },
 "nbformat": 4,
 "nbformat_minor": 5
}
