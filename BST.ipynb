{
 "cells": [
  {
   "cell_type": "code",
   "execution_count": null,
   "id": "16885ddc-384e-4697-b340-2cde85a0922f",
   "metadata": {},
   "outputs": [],
   "source": [
    "class Node:\n",
    "    def __init__(self, left=None, item=None, right=None):\n",
    "        self.left = left\n",
    "        self.item = item\n",
    "        self.right = right\n",
    "\n",
    "class BST:\n",
    "    def __init__(self,root=None):\n",
    "        self.root = root\n",
    "\n",
    "    def is_empty(self):\n",
    "        return self.root is None\n",
    "\n",
    "    def insert(self,data):\n",
    "        n = Node(None, data, None)\n",
    "        if self.is_empty():\n",
    "            self.root = n\n",
    "        elif n.item < self.root.item:\n",
    "            temp = self.root\n",
    "            \n",
    "            while temp:\n",
    "                if n.item < temp.item and temp.left is None:\n",
    "                    temp.left = n\n",
    "                    break\n",
    "                elif n.item > temp.item and temp.right is None:\n",
    "                    temp.right = n\n",
    "                    break                    \n",
    "                temp = temp.left\n",
    "\n",
    "                if n.item < temp.item:\n",
    "                    temp = temp.left\n",
    "                else:\n",
    "                    temp = temp.right\n",
    "\n",
    "    def preOrder(self):\n",
    "        temp = self.root\n",
    "        while temp:\n",
    "            if temp.left is not None:\n",
    "                print(temp.item)\n",
    "                temp = temp.left\n",
    "            print(temp.item)\n",
    "            \n",
    "                \n",
    "                \n",
    "                \n",
    "                "
   ]
  }
 ],
 "metadata": {
  "kernelspec": {
   "display_name": "Python 3 (ipykernel)",
   "language": "python",
   "name": "python3"
  },
  "language_info": {
   "codemirror_mode": {
    "name": "ipython",
    "version": 3
   },
   "file_extension": ".py",
   "mimetype": "text/x-python",
   "name": "python",
   "nbconvert_exporter": "python",
   "pygments_lexer": "ipython3",
   "version": "3.13.2"
  }
 },
 "nbformat": 4,
 "nbformat_minor": 5
}
