{
 "cells": [
  {
   "cell_type": "code",
   "execution_count": 1,
   "id": "baaac1a2-2110-4c2f-ab95-e0da156bfa0e",
   "metadata": {},
   "outputs": [],
   "source": [
    "import numpy as np"
   ]
  },
  {
   "cell_type": "code",
   "execution_count": 45,
   "id": "39e2ef7b-360d-4473-9ce9-4a03b10f7d37",
   "metadata": {},
   "outputs": [],
   "source": [
    "x = np.array([2,1,3,1,2,3,4,5,2,3,5,3])\n",
    "y = np.array([2,3,4,31,3,5,5,3,3,1])"
   ]
  },
  {
   "cell_type": "code",
   "execution_count": 46,
   "id": "7f9aefb3-ea86-4425-91c3-c32642634da6",
   "metadata": {},
   "outputs": [],
   "source": [
    "n = len(x)"
   ]
  },
  {
   "cell_type": "code",
   "execution_count": 47,
   "id": "e880f3ee-824a-4438-9b64-3ad173cb2826",
   "metadata": {},
   "outputs": [],
   "source": [
    "n1 = len(y)"
   ]
  },
  {
   "cell_type": "code",
   "execution_count": 50,
   "id": "4c619134-b3ab-4306-8db1-3ae8f327f354",
   "metadata": {},
   "outputs": [
    {
     "name": "stdout",
     "output_type": "stream",
     "text": [
      "[2, 1, 3, 4, 5]\n"
     ]
    }
   ],
   "source": [
    "new_arr = []\n",
    "\n",
    "for i in range(0,n):\n",
    "    if x[i] in y and x[i] not in new_arr:\n",
    "        new_arr.append(x[i])\n",
    "\n",
    "print(new_arr)"
   ]
  },
  {
   "cell_type": "code",
   "execution_count": null,
   "id": "8f4dfe10-f7a1-42df-a8ed-8c3d0b7c1119",
   "metadata": {},
   "outputs": [],
   "source": []
  }
 ],
 "metadata": {
  "kernelspec": {
   "display_name": "Python 3 (ipykernel)",
   "language": "python",
   "name": "python3"
  },
  "language_info": {
   "codemirror_mode": {
    "name": "ipython",
    "version": 3
   },
   "file_extension": ".py",
   "mimetype": "text/x-python",
   "name": "python",
   "nbconvert_exporter": "python",
   "pygments_lexer": "ipython3",
   "version": "3.12.2"
  }
 },
 "nbformat": 4,
 "nbformat_minor": 5
}
