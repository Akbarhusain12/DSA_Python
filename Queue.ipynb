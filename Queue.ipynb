{
 "cells": [
  {
   "cell_type": "code",
   "execution_count": 4,
   "id": "b96b45c0-c46e-47b3-98b8-02ec9e1cd314",
   "metadata": {},
   "outputs": [
    {
     "name": "stdout",
     "output_type": "stream",
     "text": [
      "10\n",
      "Removed -  10\n",
      "20\n"
     ]
    }
   ],
   "source": [
    "# Queue using list\n",
    "\n",
    "class Queue:\n",
    "    def __init__(self):\n",
    "        self.items = []\n",
    "        self.item_count = 0\n",
    "\n",
    "    def is_empty(self):\n",
    "        return self.item_count == 0\n",
    "\n",
    "    def enqueue(self, data):\n",
    "        self.items.append(data)\n",
    "        self.item_count += 1\n",
    "\n",
    "    def dequeue(self):\n",
    "        if not self.is_empty():\n",
    "            return self.items.pop(0)\n",
    "            self.item_count -= 1\n",
    "        else:\n",
    "            print(\"Queue is Empty\")\n",
    "\n",
    "    def peek(self):\n",
    "        if not self.is_empty():\n",
    "            return self.items[0]\n",
    "        else:\n",
    "            print(\"Queue is Empty\")\n",
    "        \n",
    "        \n",
    "\n",
    "q = Queue()\n",
    "\n",
    "\n",
    "q.enqueue(10)\n",
    "q.enqueue(20)\n",
    "q.enqueue(30)\n",
    "\n",
    "print(q.peek())\n",
    "print(\"Removed - \",q.dequeue())\n",
    "print(q.peek())"
   ]
  },
  {
   "cell_type": "code",
   "execution_count": 16,
   "id": "8d3308a6-ef37-4e5a-b0c4-e104bddc0c85",
   "metadata": {},
   "outputs": [
    {
     "name": "stdout",
     "output_type": "stream",
     "text": [
      "10 -> 20 -> 30 -> None\n",
      "Dequeued: None\n",
      "20 -> 30 -> None\n",
      "Front element: 20\n"
     ]
    }
   ],
   "source": [
    "#Queue using linkedlist\n",
    "\n",
    "class Node:\n",
    "    def __init__(self, items, next = None):\n",
    "        self.items = items\n",
    "        self.next = next\n",
    "\n",
    "class Queue_1:\n",
    "    def __init__(self):\n",
    "        self.front = None\n",
    "        self.rear = None\n",
    "\n",
    "    def is_empty(self):\n",
    "        return self.front == None\n",
    "\n",
    "    def en_que(self, data):\n",
    "        n = Node(data,None)\n",
    "        if self.front is None:\n",
    "            self.front = self.rear = n\n",
    "        self.rear.next = n\n",
    "        self.rear = n\n",
    "\n",
    "    def de_que(self):\n",
    "        if not self.is_empty():\n",
    "            if self.front == self.rear:\n",
    "                self.front = self.rear = None\n",
    "            self.front = self.front.next\n",
    "            \n",
    "\n",
    "    def peek(self):\n",
    "        if not self.is_empty():\n",
    "            return self.front.items\n",
    "    \n",
    "    def Display(self):\n",
    "        if self.is_empty():\n",
    "            print(\"Queue is empty\")\n",
    "            return\n",
    "        temp = self.front\n",
    "        while temp:\n",
    "            print(temp.items, end=\" -> \")\n",
    "            temp = temp.next\n",
    "        print(\"None\")\n",
    "\n",
    "q = Queue_1()\n",
    "q.en_que(10)\n",
    "q.en_que(20)\n",
    "q.en_que(30)\n",
    "q.Display()\n",
    "\n",
    "print(\"Dequeued:\", q.de_que())\n",
    "q.Display()\n",
    "\n",
    "print(\"Front element:\", q.peek())"
   ]
  },
  {
   "cell_type": "code",
   "execution_count": null,
   "id": "4d0b0c69-6fe7-4440-9730-cccc3bde4b48",
   "metadata": {},
   "outputs": [],
   "source": []
  }
 ],
 "metadata": {
  "kernelspec": {
   "display_name": "Python 3 (ipykernel)",
   "language": "python",
   "name": "python3"
  },
  "language_info": {
   "codemirror_mode": {
    "name": "ipython",
    "version": 3
   },
   "file_extension": ".py",
   "mimetype": "text/x-python",
   "name": "python",
   "nbconvert_exporter": "python",
   "pygments_lexer": "ipython3",
   "version": "3.13.2"
  }
 },
 "nbformat": 4,
 "nbformat_minor": 5
}
